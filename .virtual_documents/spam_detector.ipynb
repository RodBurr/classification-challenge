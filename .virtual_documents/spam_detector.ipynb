


import pandas as pd
from sklearn.model_selection import train_test_split
from sklearn.metrics import accuracy_score





# Import the data
data = pd.read_csv("https://static.bc-edx.com/ai/ail-v-1-0/m13/challenge/spam-data.csv")
data.head()











# Create the labels set `y` and features DataFrame `X`
y = data["spam"]
X = data.drop(columns=["spam"])


# Check the balance of the labels variable (`y`) by using the `value_counts` function.
print(y.value_counts())


# Split the data into X_train, X_test, y_train, y_test
X_train, X_test, y_train, y_test = train_test_split(X, y, test_size=0.3, random_state=1, stratify=y)








from sklearn.preprocessing import StandardScaler

# Create the StandardScaler instance
scaler = StandardScaler()


# Fit the Standard Scaler with the training data
scaler.fit(X_train)


# Scale the training data
X_train_scaled = scaler.transform(X_train)
X_test_scaled = scaler.transform(X_test)





from sklearn.linear_model import LogisticRegression
# Create and fit a Logistic Regression model
log_reg = LogisticRegression(random_state=1)
log_reg.fit(X_train_scaled, y_train)


# Make and save testing predictions with the trained Logistic Regression model using the test data
log_reg_predictions = log_reg.predict(X_test_scaled)
# Review the predictions
print("Logistic Regression Predictions:", log_reg_predictions)


# Calculate the accuracy score by evaluating `y_test` vs. `testing_predictions`.
log_reg_accuracy = accuracy_score(y_test, log_reg_predictions)
print(f"Logistic Regression Accuracy: {log_reg_accuracy:.2f}")





# Create and fit a Random Forest Classifier model
from sklearn.ensemble import RandomForestClassifier

rf_clf = RandomForestClassifier(random_state=1)
rf_clf.fit(X_train_scaled, y_train)


# Make and save testing predictions with the trained Random Forest Classifier model using the test data
rf_clf_predictions = rf_clf.predict(X_test_scaled)

# Review the predictions
print("Random Forest Predictions:", rf_clf_predictions)


# Calculate the accuracy score by evaluating `y_test` vs. `testing_predictions`.
rf_clf_accuracy = accuracy_score(y_test, rf_clf_predictions)
print(f"Random Forest Accuracy: {rf_clf_accuracy:.2f}")


# Results
if log_reg_accuracy > rf_clf_accuracy:
    print("Logistic Regression performed better.")
else:
    print("Random Forest performed better.")






